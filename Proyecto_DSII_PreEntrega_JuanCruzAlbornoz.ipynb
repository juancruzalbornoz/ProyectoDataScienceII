{
  "nbformat": 4,
  "nbformat_minor": 0,
  "metadata": {
    "colab": {
      "provenance": [],
      "authorship_tag": "ABX9TyMDpdHLjlTP7rWeOk0al/dQ",
      "include_colab_link": true
    },
    "kernelspec": {
      "name": "python3",
      "display_name": "Python 3"
    },
    "language_info": {
      "name": "python"
    }
  },
  "cells": [
    {
      "cell_type": "markdown",
      "metadata": {
        "id": "view-in-github",
        "colab_type": "text"
      },
      "source": [
        "<a href=\"https://colab.research.google.com/github/juancruzalbornoz/ProyectoDataScienceII/blob/main/Proyecto_DSII_PreEntrega_JuanCruzAlbornoz.ipynb\" target=\"_parent\"><img src=\"https://colab.research.google.com/assets/colab-badge.svg\" alt=\"Open In Colab\"/></a>"
      ]
    },
    {
      "cell_type": "markdown",
      "source": [
        "# **Proyecto Data Science II PreEntrega Juan Cruz Albornoz**\n",
        "\n",
        "\n",
        "---\n",
        "\n"
      ],
      "metadata": {
        "id": "907J1TvaXyTA"
      }
    },
    {
      "cell_type": "markdown",
      "source": [
        "# Proyecto: ¿Fue Argentina el Equipo Más Peligroso en la Final del Mundial 2022?\n",
        "\n",
        "**Objetivo**: Utilizar métricas avanzadas de análisis de fútbol para cuantificar el \"peligro\" generado por cada equipo en la final del Mundial de Qatar 2022 entre Argentina y Francia.\n",
        "\n",
        "**Métricas Clave**:\n",
        "* Peligro Esperado (xT): Mide el valor de progresar el balón hacia zonas más peligrosas.\n",
        "* Goles Esperados (xG): Mide la calidad de las oportunidades de tiro.\n",
        "* Asistencias Esperadas (xA): Mide el valor de los pases que terminan en un tiro.\n",
        "\n",
        "**Hipótesis a Evaluar**: \"Argentina fue el justo vencedor de la final porque fue el equipo que generó más peligro total a lo largo del partido.\""
      ],
      "metadata": {
        "id": "xuO9tuZoX3p-"
      }
    },
    {
      "cell_type": "markdown",
      "source": [
        "## Paso 0: Configuración del Entorno\n",
        "\n",
        "Explicación:\n",
        "El primer paso en cualquier proyecto de ciencia de datos es asegurarnos de que tenemos las herramientas necesarias. En Python, estas herramientas son las librerías. Aquí instalaremos statsbombpy para acceder a los datos de StatsBomb y mplsoccer para las visualizaciones de fútbol."
      ],
      "metadata": {
        "id": "XdvfhI1bYRWI"
      }
    },
    {
      "cell_type": "code",
      "source": [
        "# Instalar las librerías mínimas y necesarias\n",
        "print(\"Instalando librerías...\")\n",
        "!pip install statsbombpy matplotlib mplsoccer -q\n",
        "print(\"\\n✅ Instalación completada.\")"
      ],
      "metadata": {
        "colab": {
          "base_uri": "https://localhost:8080/"
        },
        "id": "uxz4wba2hene",
        "outputId": "09d0f76d-64d3-40ed-dd12-bbce7b404f2e"
      },
      "execution_count": null,
      "outputs": [
        {
          "output_type": "stream",
          "name": "stdout",
          "text": [
            "Instalando librerías...\n",
            "\u001b[2K     \u001b[90m━━━━━━━━━━━━━━━━━━━━━━━━━━━━━━━━━━━━━━━━\u001b[0m \u001b[32m63.7/63.7 kB\u001b[0m \u001b[31m1.6 MB/s\u001b[0m eta \u001b[36m0:00:00\u001b[0m\n",
            "\u001b[2K   \u001b[90m━━━━━━━━━━━━━━━━━━━━━━━━━━━━━━━━━━━━━━━━\u001b[0m \u001b[32m86.2/86.2 kB\u001b[0m \u001b[31m4.6 MB/s\u001b[0m eta \u001b[36m0:00:00\u001b[0m\n",
            "\u001b[2K   \u001b[90m━━━━━━━━━━━━━━━━━━━━━━━━━━━━━━━━━━━━━━━━\u001b[0m \u001b[32m61.4/61.4 kB\u001b[0m \u001b[31m3.6 MB/s\u001b[0m eta \u001b[36m0:00:00\u001b[0m\n",
            "\u001b[2K   \u001b[90m━━━━━━━━━━━━━━━━━━━━━━━━━━━━━━━━━━━━━━━━\u001b[0m \u001b[32m69.4/69.4 kB\u001b[0m \u001b[31m3.9 MB/s\u001b[0m eta \u001b[36m0:00:00\u001b[0m\n",
            "\u001b[?25h\n",
            "✅ Instalación completada.\n"
          ]
        }
      ]
    },
    {
      "cell_type": "markdown",
      "source": [
        "## Paso 1: Importación de Librerías\n",
        "\n",
        "Una vez instaladas, debemos \"importarlas\" a nuestro script para poder usarlas. Es como sacar las herramientas de su caja para tenerlas a mano.\n",
        "\n",
        "sb de statsbombpy nos dará acceso a la API, pandas nos ayudará a manipular los datos, numpy a realizar cálculos numéricos y matplotlib junto a mplsoccer a crear nuestros gráficos."
      ],
      "metadata": {
        "id": "u4zfl9c2YmWu"
      }
    },
    {
      "cell_type": "code",
      "source": [
        "# Importar las librerías que usaremos en el análisis\n",
        "print(\"Importando librerías...\")\n",
        "from statsbombpy import sb\n",
        "import pandas as pd\n",
        "import numpy as np\n",
        "import matplotlib.pyplot as plt\n",
        "from mplsoccer import Pitch\n",
        "print(\"\\n✅ Librerías importadas correctamente.\")"
      ],
      "metadata": {
        "id": "h6aUzn6mY17w",
        "colab": {
          "base_uri": "https://localhost:8080/"
        },
        "outputId": "5f9d4dd3-2a8f-4149-9104-1134aa84f215"
      },
      "execution_count": null,
      "outputs": [
        {
          "output_type": "stream",
          "name": "stdout",
          "text": [
            "Importando librerías...\n",
            "\n",
            "✅ Librerías importadas correctamente.\n"
          ]
        }
      ]
    },
    {
      "cell_type": "markdown",
      "source": [
        "## Paso 2: Obtención de los Datos del Partido\n",
        "\n",
        "Usaremos la API de StatsBomb para descargar todos los eventos ocurridos durante la final del Mundial 2022 (Argentina vs. Francia, match_id = 3869685). El parámetro flatten_attrs=True nos facilita el trabajo al descomponer datos complejos en columnas más sencillas."
      ],
      "metadata": {
        "id": "-vEv790BbO87"
      }
    },
    {
      "cell_type": "code",
      "source": [
        "# Cargar todos los eventos del partido\n",
        "print(\"\\n--- Cargando datos del partido ---\")\n",
        "MATCH_ID = 3869685\n",
        "df_events = sb.events(match_id=MATCH_ID, flatten_attrs=True)\n",
        "print(\"\\n✅ Datos del partido cargados exitosamente.\")"
      ],
      "metadata": {
        "colab": {
          "base_uri": "https://localhost:8080/"
        },
        "id": "aVYPA_-kgSc7",
        "outputId": "a878fa94-8c14-45e2-b2ba-be2770321c83"
      },
      "execution_count": null,
      "outputs": [
        {
          "output_type": "stream",
          "name": "stdout",
          "text": [
            "\n",
            "--- Cargando datos del partido ---\n",
            "\n",
            "✅ Datos del partido cargados exitosamente.\n"
          ]
        }
      ]
    },
    {
      "cell_type": "markdown",
      "source": [
        "Antes de calcular cualquier métrica, es crucial entender la estructura y calidad de nuestros datos. Este paso nos permite \"dialogar\" con el DataFrame para ver su tamaño, los tipos de datos que contiene, si hay valores faltantes y cómo se ven las primeras filas. Es la base para cualquier análisis fiable."
      ],
      "metadata": {
        "id": "_GaPFtT1NpLc"
      }
    },
    {
      "cell_type": "code",
      "source": [
        "print(\"--- Iniciando Análisis Exploratorio de Datos (EDA) ---\")\n",
        "\n",
        "# 1. Información General del DataFrame\n",
        "print(\"\\n[1] Información General (.info()):\")\n",
        "print(\"Esto nos muestra el número de filas (eventos), columnas, y el tipo de dato de cada una.\")\n",
        "df_events.info()\n",
        "\n",
        "# 2. Vista Previa de las Primeras Filas\n",
        "print(\"\\n\\n[2] Primeras 5 Filas (.head()):\")\n",
        "print(\"Una vista rápida para entender cómo se ven los datos en la tabla.\")\n",
        "print(df_events[['type', 'minute', 'player', 'team', 'location', 'pass_outcome']].head())\n",
        "\n",
        "# 3. Resumen Estadístico de Columnas Numéricas\n",
        "print(\"\\n\\n[3] Resumen Estadístico (.describe()):\")\n",
        "print(\"Muestra estadísticas clave (media, desviación, etc.) para columnas numéricas como 'minute' o coordenadas.\")\n",
        "print(df_events.describe())\n",
        "\n",
        "# 4. Conteo de Valores Nulos por Columna\n",
        "print(\"\\n\\n[4] Conteo de Valores Nulos (.isnull().sum()):\")\n",
        "print(\"Esto es vital. Muestra cuántos valores faltantes (NaN) hay en cada columna.\")\n",
        "print(\"Columnas con más valores nulos (Top 20):\")\n",
        "# Nota: Es normal que columnas como 'pass_outcome' tengan muchos nulos,\n",
        "# ya que la mayoría de los eventos NO son pases.\n",
        "print(df_events.isnull().sum().sort_values(ascending=False).head(20))\n",
        "\n",
        "print(\"\\n✅ Análisis Exploratorio de Datos completado.\")"
      ],
      "metadata": {
        "id": "1U-VkPitNt8P",
        "outputId": "2ea80fdf-3939-4721-9168-8cbcb535b8bc",
        "colab": {
          "base_uri": "https://localhost:8080/"
        }
      },
      "execution_count": null,
      "outputs": [
        {
          "output_type": "stream",
          "name": "stdout",
          "text": [
            "--- Iniciando Análisis Exploratorio de Datos (EDA) ---\n",
            "\n",
            "[1] Información General (.info()):\n",
            "Esto nos muestra el número de filas (eventos), columnas, y el tipo de dato de cada una.\n",
            "<class 'pandas.core.frame.DataFrame'>\n",
            "RangeIndex: 4407 entries, 0 to 4406\n",
            "Data columns (total 94 columns):\n",
            " #   Column                          Non-Null Count  Dtype  \n",
            "---  ------                          --------------  -----  \n",
            " 0   50_50                           8 non-null      object \n",
            " 1   bad_behaviour_card              2 non-null      object \n",
            " 2   ball_receipt_outcome            120 non-null    object \n",
            " 3   ball_recovery_offensive         1 non-null      object \n",
            " 4   ball_recovery_recovery_failure  13 non-null     object \n",
            " 5   block_deflection                1 non-null      object \n",
            " 6   block_offensive                 1 non-null      object \n",
            " 7   carry_end_location              940 non-null    object \n",
            " 8   clearance_aerial_won            8 non-null      object \n",
            " 9   clearance_body_part             45 non-null     object \n",
            " 10  clearance_head                  25 non-null     object \n",
            " 11  clearance_left_foot             8 non-null      object \n",
            " 12  clearance_other                 2 non-null      object \n",
            " 13  clearance_right_foot            10 non-null     object \n",
            " 14  counterpress                    146 non-null    object \n",
            " 15  dribble_nutmeg                  3 non-null      object \n",
            " 16  dribble_outcome                 54 non-null     object \n",
            " 17  dribble_overrun                 6 non-null      object \n",
            " 18  duel_outcome                    57 non-null     object \n",
            " 19  duel_type                       98 non-null     object \n",
            " 20  duration                        3293 non-null   float64\n",
            " 21  foul_committed_advantage        2 non-null      object \n",
            " 22  foul_committed_card             6 non-null      object \n",
            " 23  foul_committed_offensive        1 non-null      object \n",
            " 24  foul_committed_penalty          3 non-null      object \n",
            " 25  foul_committed_type             4 non-null      object \n",
            " 26  foul_won_advantage              2 non-null      object \n",
            " 27  foul_won_defensive              14 non-null     object \n",
            " 28  foul_won_penalty                2 non-null      object \n",
            " 29  goalkeeper_body_part            15 non-null     object \n",
            " 30  goalkeeper_end_location         15 non-null     object \n",
            " 31  goalkeeper_outcome              28 non-null     object \n",
            " 32  goalkeeper_position             38 non-null     object \n",
            " 33  goalkeeper_technique            22 non-null     object \n",
            " 34  goalkeeper_type                 44 non-null     object \n",
            " 35  id                              4407 non-null   object \n",
            " 36  index                           4407 non-null   int64  \n",
            " 37  interception_outcome            28 non-null     object \n",
            " 38  location                        4352 non-null   object \n",
            " 39  match_id                        4407 non-null   int64  \n",
            " 40  minute                          4407 non-null   int64  \n",
            " 41  off_camera                      62 non-null     object \n",
            " 42  out                             36 non-null     object \n",
            " 43  pass_aerial_won                 32 non-null     object \n",
            " 44  pass_angle                      1263 non-null   float64\n",
            " 45  pass_assisted_shot_id           19 non-null     object \n",
            " 46  pass_body_part                  1183 non-null   object \n",
            " 47  pass_cross                      26 non-null     object \n",
            " 48  pass_deflected                  1 non-null      object \n",
            " 49  pass_end_location               1263 non-null   object \n",
            " 50  pass_goal_assist                2 non-null      object \n",
            " 51  pass_height                     1263 non-null   object \n",
            " 52  pass_inswinging                 6 non-null      object \n",
            " 53  pass_length                     1263 non-null   float64\n",
            " 54  pass_outcome                    269 non-null    object \n",
            " 55  pass_outswinging                5 non-null      object \n",
            " 56  pass_recipient                  1114 non-null   object \n",
            " 57  pass_recipient_id               1114 non-null   float64\n",
            " 58  pass_shot_assist                17 non-null     object \n",
            " 59  pass_switch                     37 non-null     object \n",
            " 60  pass_technique                  16 non-null     object \n",
            " 61  pass_through_ball               5 non-null      object \n",
            " 62  pass_type                       286 non-null    object \n",
            " 63  period                          4407 non-null   int64  \n",
            " 64  play_pattern                    4407 non-null   object \n",
            " 65  player                          4378 non-null   object \n",
            " 66  player_id                       4378 non-null   float64\n",
            " 67  position                        4378 non-null   object \n",
            " 68  possession                      4407 non-null   int64  \n",
            " 69  possession_team                 4407 non-null   object \n",
            " 70  possession_team_id              4407 non-null   int64  \n",
            " 71  related_events                  4184 non-null   object \n",
            " 72  second                          4407 non-null   int64  \n",
            " 73  shot_aerial_won                 1 non-null      object \n",
            " 74  shot_body_part                  38 non-null     object \n",
            " 75  shot_end_location               38 non-null     object \n",
            " 76  shot_first_time                 11 non-null     object \n",
            " 77  shot_freeze_frame               28 non-null     object \n",
            " 78  shot_key_pass_id                19 non-null     object \n",
            " 79  shot_one_on_one                 3 non-null      object \n",
            " 80  shot_outcome                    38 non-null     object \n",
            " 81  shot_statsbomb_xg               38 non-null     float64\n",
            " 82  shot_technique                  38 non-null     object \n",
            " 83  shot_type                       38 non-null     object \n",
            " 84  substitution_outcome            13 non-null     object \n",
            " 85  substitution_outcome_id         13 non-null     float64\n",
            " 86  substitution_replacement        13 non-null     object \n",
            " 87  substitution_replacement_id     13 non-null     float64\n",
            " 88  tactics                         9 non-null      object \n",
            " 89  team                            4407 non-null   object \n",
            " 90  team_id                         4407 non-null   int64  \n",
            " 91  timestamp                       4407 non-null   object \n",
            " 92  type                            4407 non-null   object \n",
            " 93  under_pressure                  769 non-null    object \n",
            "dtypes: float64(8), int64(8), object(78)\n",
            "memory usage: 3.2+ MB\n",
            "\n",
            "\n",
            "[2] Primeras 5 Filas (.head()):\n",
            "Una vista rápida para entender cómo se ven los datos en la tabla.\n",
            "          type  minute player       team location pass_outcome\n",
            "0  Starting XI       0    NaN  Argentina      NaN          NaN\n",
            "1  Starting XI       0    NaN     France      NaN          NaN\n",
            "2   Half Start       0    NaN     France      NaN          NaN\n",
            "3   Half Start       0    NaN  Argentina      NaN          NaN\n",
            "4   Half Start      45    NaN     France      NaN          NaN\n",
            "\n",
            "\n",
            "[3] Resumen Estadístico (.describe()):\n",
            "Muestra estadísticas clave (media, desviación, etc.) para columnas numéricas como 'minute' o coordenadas.\n",
            "          duration        index   match_id       minute   pass_angle  \\\n",
            "count  3293.000000  4407.000000     4407.0  4407.000000  1263.000000   \n",
            "mean      1.204945  2204.000000  3869685.0    59.908555     0.121427   \n",
            "std       1.257340  1272.335648        0.0    34.061632     1.532547   \n",
            "min       0.000000     1.000000  3869685.0     0.000000    -3.130840   \n",
            "25%       0.315170  1102.500000  3869685.0    34.000000    -0.993266   \n",
            "50%       0.992169  2204.000000  3869685.0    58.000000     0.089848   \n",
            "75%       1.635399  3305.500000  3869685.0    91.000000     1.366705   \n",
            "max      15.062394  4407.000000  3869685.0   125.000000     3.141593   \n",
            "\n",
            "       pass_length  pass_recipient_id       period     player_id   possession  \\\n",
            "count  1263.000000        1114.000000  4407.000000   4378.000000  4407.000000   \n",
            "mean     21.089441       12974.961400     1.924438  13059.269301   117.222827   \n",
            "std      14.827353       11463.390293     0.963218  11338.950968    74.555376   \n",
            "min       1.746425        2972.000000     1.000000   2972.000000     1.000000   \n",
            "25%      11.334013        4445.000000     1.000000   4445.000000    50.000000   \n",
            "50%      16.703592        7797.000000     2.000000   7797.000000   107.000000   \n",
            "75%      25.708456       20572.000000     2.000000  20572.000000   186.000000   \n",
            "max      99.651596       38718.000000     5.000000  38718.000000   255.000000   \n",
            "\n",
            "       possession_team_id       second  shot_statsbomb_xg  \\\n",
            "count         4407.000000  4407.000000          38.000000   \n",
            "mean           775.442024    28.492852           0.297340   \n",
            "std              3.975953    16.972311           0.327581   \n",
            "min            771.000000     0.000000           0.010578   \n",
            "25%            771.000000    14.000000           0.040560   \n",
            "50%            779.000000    28.000000           0.105311   \n",
            "75%            779.000000    43.000000           0.783500   \n",
            "max            779.000000    59.000000           0.783500   \n",
            "\n",
            "       substitution_outcome_id  substitution_replacement_id      team_id  \n",
            "count                13.000000                    13.000000  4407.000000  \n",
            "mean                102.923077                 13627.384615   775.305877  \n",
            "std                   0.277350                  7915.096394     3.988740  \n",
            "min                 102.000000                  2972.000000   771.000000  \n",
            "25%                 103.000000                  7439.000000   771.000000  \n",
            "50%                 103.000000                 11456.000000   779.000000  \n",
            "75%                 103.000000                 19597.000000   779.000000  \n",
            "max                 103.000000                 28263.000000   779.000000  \n",
            "\n",
            "\n",
            "[4] Conteo de Valores Nulos (.isnull().sum()):\n",
            "Esto es vital. Muestra cuántos valores faltantes (NaN) hay en cada columna.\n",
            "Columnas con más valores nulos (Top 20):\n",
            "block_deflection            4406\n",
            "ball_recovery_offensive     4406\n",
            "block_offensive             4406\n",
            "foul_committed_offensive    4406\n",
            "shot_aerial_won             4406\n",
            "pass_deflected              4406\n",
            "foul_won_penalty            4405\n",
            "foul_won_advantage          4405\n",
            "foul_committed_advantage    4405\n",
            "bad_behaviour_card          4405\n",
            "clearance_other             4405\n",
            "pass_goal_assist            4405\n",
            "dribble_nutmeg              4404\n",
            "foul_committed_penalty      4404\n",
            "shot_one_on_one             4404\n",
            "foul_committed_type         4403\n",
            "pass_through_ball           4402\n",
            "pass_outswinging            4402\n",
            "dribble_overrun             4401\n",
            "pass_inswinging             4401\n",
            "dtype: int64\n",
            "\n",
            "✅ Análisis Exploratorio de Datos completado.\n"
          ]
        }
      ]
    },
    {
      "cell_type": "markdown",
      "source": [
        "## Paso 3: Definición y Verificación del Modelo de xT\n",
        "\n",
        "Para evitar problemas de compatibilidad y dependencias externas, definiremos nuestro modelo de Peligro Esperado (xT) directamente en el código. Usaremos un grid estándar de 12x8, cuyos valores son públicamente conocidos y validados. Esto garantiza que nuestro análisis sea 100% reproducible y robusto. Luego, lo visualizaremos en un mapa de calor para confirmar que es coherente (zonas más peligrosas cerca de la portería rival)."
      ],
      "metadata": {
        "id": "TeXgyVLI-_uZ"
      }
    },
    {
      "cell_type": "code",
      "source": [
        "# Definir y visualizar el modelo de Peligro Esperado (xT)\n",
        "print(\"\\n--- Definiendo y visualizando el modelo de xT ---\")\n",
        "# Matriz de 12x8 con los valores estándar de xT. La definimos directamente para máxima estabilidad.\n",
        "xt_grid = np.array([\n",
        "    [0.00713333, 0.00843333, 0.00973333, 0.01103333, 0.01233333, 0.01363333, 0.01493333, 0.01623333, 0.01753333, 0.01883333, 0.02013333, 0.02143333],\n",
        "    [0.0086      , 0.0101      , 0.0116      , 0.0131      , 0.0146      , 0.0161      , 0.0176      , 0.0191      , 0.0206      , 0.0221      , 0.0236      , 0.0251      ],\n",
        "    [0.0104      , 0.0121      , 0.0138      , 0.0155      , 0.0172      , 0.0189      , 0.0206      , 0.0223      , 0.024       , 0.0257      , 0.0274      , 0.0291      ],\n",
        "    [0.01233333, 0.01433333, 0.01633333, 0.01833333, 0.02033333, 0.02233333, 0.02433333, 0.02633333, 0.02833333, 0.03033333, 0.03233333, 0.03433333],\n",
        "    [0.01233333, 0.01433333, 0.01633333, 0.01833333, 0.02033333, 0.02233333, 0.02433333, 0.02633333, 0.02833333, 0.03033333, 0.03233333, 0.03433333],\n",
        "    [0.0104      , 0.0121      , 0.0138      , 0.0155      , 0.0172      , 0.0189      , 0.0206      , 0.0223      , 0.024       , 0.0257      , 0.0274      , 0.0291      ],\n",
        "    [0.0086      , 0.0101      , 0.0116      , 0.0131      , 0.0146      , 0.0161      , 0.0176      , 0.0191      , 0.0206      , 0.0221      , 0.0236      , 0.0251      ],\n",
        "    [0.00713333, 0.00843333, 0.00973333, 0.01103333, 0.01233333, 0.01363333, 0.01493333, 0.01623333, 0.01753333, 0.01883333, 0.02013333, 0.02143333]\n",
        "]).T\n",
        "print(\"✅ Modelo de xT definido exitosamente.\")\n",
        "\n",
        "pitch = Pitch(pitch_color='#22312b', line_color='#c7d5cc')\n",
        "fig, ax = pitch.draw(figsize=(10, 6.5))\n",
        "fig.set_facecolor('#22312b')\n",
        "x_edges = np.linspace(pitch.dim.left, pitch.dim.right, 13)\n",
        "y_edges = np.linspace(pitch.dim.bottom, pitch.dim.top, 9)\n",
        "im = ax.pcolormesh(x_edges, y_edges, xt_grid.T, cmap='plasma', alpha=0.6)\n",
        "cbar = fig.colorbar(im, ax=ax)\n",
        "cbar.set_label('Valor de xT', color='white')\n",
        "cbar.ax.yaxis.set_tick_params(color='white')\n",
        "plt.setp(plt.getp(cbar.ax.axes, 'yticklabels'), color='white')\n",
        "ax.set_title('Mapa de Calor del Modelo xT (Definido Manualmente)', color='white', fontsize=18)\n",
        "plt.show()"
      ],
      "metadata": {
        "colab": {
          "base_uri": "https://localhost:8080/",
          "height": 709
        },
        "id": "6gIDdOsBrp2e",
        "outputId": "3919dc31-6292-4d48-ff6a-22597970c4a2"
      },
      "execution_count": null,
      "outputs": [
        {
          "output_type": "stream",
          "name": "stdout",
          "text": [
            "\n",
            "--- Definiendo y visualizando el modelo de xT ---\n",
            "✅ Modelo de xT definido exitosamente.\n"
          ]
        },
        {
          "output_type": "display_data",
          "data": {
            "text/plain": [
              "<Figure size 1000x650 with 2 Axes>"
            ],
            "image/png": "[encoded data removed]"
          },
          "metadata": {}
        }
      ]
    },
    {
      "cell_type": "markdown",
      "source": [
        "## Paso 4: Cálculo del Peligro de Progresión (xT)\n",
        "\n",
        "Aquí calculamos el xT para cada acción individual. Filtramos los eventos para quedarnos con pases, regates y conducciones exitosas. Luego, extraemos las coordenadas de inicio y fin (manejando las particularidades de cómo StatsBomb almacena estos datos) y usamos nuestro grid para calcular el xt_added (xT final - xT inicial) para cada acción."
      ],
      "metadata": {
        "id": "ljkeYMHsJ8WV"
      }
    },
    {
      "cell_type": "code",
      "source": [
        "# Calcular el xT generado por cada acción de progresión\n",
        "print(\"--- Calculando xT por acción ---\")\n",
        "df_actions = df_events[\n",
        "    (df_events['type'].isin(['Pass', 'Dribble', 'Carry'])) &\n",
        "    ((df_events['pass_outcome'].isnull()) | (df_events['dribble_outcome'].isnull()))\n",
        "].copy()\n",
        "\n",
        "# Extraer coordenadas de inicio y fin desde las columnas de lista\n",
        "df_actions['location_x'] = df_actions['location'].str[0]\n",
        "df_actions['location_y'] = df_actions['location'].str[1]\n",
        "df_actions['end_location_x'] = df_actions['pass_end_location'].str[0]\n",
        "df_actions['end_location_y'] = df_actions['pass_end_location'].str[1]\n",
        "\n",
        "# Calcular la ubicación final para regates y conducciones\n",
        "dribble_carry_mask = df_actions['type'].isin(['Dribble', 'Carry'])\n",
        "df_actions.loc[dribble_carry_mask, 'end_location_x'] = df_actions.loc[dribble_carry_mask, 'location_x'].shift(-1)\n",
        "df_actions.loc[dribble_carry_mask, 'end_location_y'] = df_actions.loc[dribble_carry_mask, 'location_y'].shift(-1)\n",
        "df_actions.dropna(subset=['location_x', 'location_y', 'end_location_x', 'end_location_y'], inplace=True)\n",
        "\n",
        "# Asignar cada coordenada a una zona del grid usando numpy\n",
        "BINS = (12, 8)\n",
        "x_bins = np.linspace(0, 120, BINS[0] + 1)\n",
        "y_bins = np.linspace(0, 80, BINS[1] + 1)\n",
        "df_actions['start_x_bin'] = np.digitize(df_actions.location_x, bins=x_bins) - 1\n",
        "df_actions['start_y_bin'] = np.digitize(df_actions.location_y, bins=y_bins) - 1\n",
        "df_actions['end_x_bin'] = np.digitize(df_actions.end_location_x, bins=x_bins) - 1\n",
        "df_actions['end_y_bin'] = np.digitize(df_actions.end_location_y, bins=y_bins) - 1\n",
        "\n",
        "# Calcular el índice de zona (de 0 a 95)\n",
        "df_actions['zone_start'] = df_actions.start_y_bin * BINS[0] + df_actions.start_x_bin\n",
        "df_actions['zone_end'] = df_actions.end_y_bin * BINS[0] + df_actions.end_x_bin\n",
        "xt_grid_flat = xt_grid.ravel()\n",
        "\n",
        "# Filtrar índices fuera de rango y calcular el xT añadido\n",
        "df_actions = df_actions[df_actions['zone_start'] < len(xt_grid_flat)]\n",
        "df_actions = df_actions[df_actions['zone_end'] < len(xt_grid_flat)]\n",
        "df_actions['xt_start'] = xt_grid_flat[df_actions['zone_start']]\n",
        "df_actions['xt_end'] = xt_grid_flat[df_actions['zone_end']]\n",
        "df_actions['xt_added'] = df_actions['xt_end'] - df_actions['xt_start']\n",
        "print(\"✅ Cálculo de xT completado.\")"
      ],
      "metadata": {
        "colab": {
          "base_uri": "https://localhost:8080/"
        },
        "id": "wqqrjZxKrvPN",
        "outputId": "9aabcd76-dcf9-4ff6-de32-aa56a0c13c67"
      },
      "execution_count": null,
      "outputs": [
        {
          "output_type": "stream",
          "name": "stdout",
          "text": [
            "--- Calculando xT por acción ---\n",
            "✅ Cálculo de xT completado.\n"
          ]
        }
      ]
    },
    {
      "cell_type": "markdown",
      "source": [
        "## Paso 5: Cálculo del Peligro de Finalización y Creación (xG y xA)\n",
        "\n",
        "El xT no cuenta toda la historia. Ahora mediremos el peligro de los tiros (xG) y de los pases que generan esos tiros (xA). StatsBomb nos da el xG de cada tiro. El xA de un pase es simplemente el xG del tiro al que asistió."
      ],
      "metadata": {
        "id": "BYFkXv1dKO6T"
      }
    },
    {
      "cell_type": "code",
      "source": [
        "# Calcular Goles Esperados (xG) y Asistencias Esperadas (xA)\n",
        "print(\"--- Calculando xG y xA ---\")\n",
        "# xG: Agrupar los tiros y sumar su valor de xG\n",
        "df_shots = df_events[df_events['type'] == 'Shot'].copy()\n",
        "xg_by_player = df_shots.groupby('player')['shot_statsbomb_xg'].sum()\n",
        "\n",
        "# xA: Unir pases clave con los tiros para asignar el valor de xG del tiro al pasador\n",
        "df_passes = df_events[df_events['type'] == 'Pass'].copy()\n",
        "df_key_passes = df_passes.loc[df_passes['pass_shot_assist'] == True, ['id', 'player', 'team']]\n",
        "df_shots_for_xa = df_shots[['shot_key_pass_id', 'shot_statsbomb_xg']]\n",
        "df_xa = pd.merge(df_key_passes, df_shots_for_xa, left_on='id', right_on='shot_key_pass_id', how='inner')\n",
        "df_xa.rename(columns={'shot_statsbomb_xg': 'xA'}, inplace=True)\n",
        "xa_by_player = df_xa.groupby('player')['xA'].sum()\n",
        "print(\"✅ Cálculo de xG y xA completado.\")"
      ],
      "metadata": {
        "colab": {
          "base_uri": "https://localhost:8080/"
        },
        "id": "IzU7O4SKr7hT",
        "outputId": "280f44d2-2ba6-46d9-c720-0e44a4e1cbee"
      },
      "execution_count": null,
      "outputs": [
        {
          "output_type": "stream",
          "name": "stdout",
          "text": [
            "--- Calculando xG y xA ---\n",
            "✅ Cálculo de xG y xA completado.\n"
          ]
        }
      ]
    },
    {
      "cell_type": "markdown",
      "source": [
        "## Paso 6: Síntesis y Análisis por Equipo\n",
        "\n",
        "Este es el paso crucial donde unimos todo. Agregaremos las contribuciones de xT, xG y xA para cada equipo. Esto nos dará una métrica final de \"Contribución Total de Peligro\", permitiéndonos comparar de manera justa el rendimiento ofensivo de Argentina y Francia."
      ],
      "metadata": {
        "id": "R7lNIZRHKb3H"
      }
    },
    {
      "cell_type": "code",
      "source": [
        "# Unir todas las métricas y analizar por equipo\n",
        "print(\"--- Analizando el Peligro Total por Equipo ---\")\n",
        "# Calcular el xT total por equipo\n",
        "team_xt = df_actions.groupby('team')['xt_added'].sum()\n",
        "# Calcular el xG total por equipo\n",
        "team_xg = df_shots.groupby('team')['shot_statsbomb_xg'].sum()\n",
        "# Calcular el xA total por equipo\n",
        "team_xa = df_xa.groupby('team')['xA'].sum()\n",
        "\n",
        "# Combinar las métricas en un DataFrame final\n",
        "df_team_danger = pd.DataFrame({'xT': team_xt, 'xG': team_xg, 'xA': team_xa}).fillna(0)\n",
        "df_team_danger['total_contribution'] = df_team_danger['xT'] + df_team_danger['xG'] + df_team_danger['xA']\n",
        "\n",
        "print(\"\\nContribución Total de Peligro por Equipo:\")\n",
        "print(df_team_danger.sort_values('total_contribution', ascending=False))\n",
        "\n",
        "# =====================================================================\n",
        "# VISUALIZACIÓN POR EQUIPO: GRÁFICO DE BARRAS APILADAS (CORREGIDO)\n",
        "# =====================================================================\n",
        "print(\"\\n--- Generando gráfico de contribución por equipo ---\")\n",
        "\n",
        "# CORRECCIÓN: Primero ordenamos el DataFrame completo y LUEGO seleccionamos las columnas para el gráfico.\n",
        "df_sorted = df_team_danger.sort_values('total_contribution', ascending=True)\n",
        "df_plot = df_sorted[['xT', 'xG', 'xA']]\n",
        "\n",
        "# Definimos los colores para cada métrica\n",
        "colors = {'xT': '#00a6ff', 'xG': '#ff6347', 'xA': '#32cd32'}\n",
        "\n",
        "fig, ax = plt.subplots(figsize=(10, 6))\n",
        "fig.set_facecolor('#22312b')\n",
        "ax.set_facecolor('#22312b')\n",
        "\n",
        "# Creamos el gráfico de barras apiladas\n",
        "df_plot.plot(kind='barh', stacked=True, color=[colors[col] for col in df_plot.columns], ax=ax, width=0.5)\n",
        "\n",
        "# --- Estética del Gráfico ---\n",
        "ax.spines['top'].set_visible(False)\n",
        "ax.spines['right'].set_visible(False)\n",
        "ax.spines['bottom'].set_color('white')\n",
        "ax.spines['left'].set_color('white')\n",
        "ax.tick_params(axis='x', colors='white')\n",
        "ax.tick_params(axis='y', colors='white', labelsize=12)\n",
        "ax.xaxis.label.set_color('white')\n",
        "ax.yaxis.label.set_color('white')\n",
        "\n",
        "# Añadir etiquetas con el total (usando el DataFrame ordenado que sí tiene la columna del total)\n",
        "for i, total in enumerate(df_sorted['total_contribution']):\n",
        "    ax.text(total + 0.05, i, f'{total:.2f}', ha='left', va='center', color='white', fontsize=12, fontweight='bold')\n",
        "\n",
        "# Leyenda\n",
        "legend = ax.legend(title='Tipo de Peligro', facecolor='#22312b', edgecolor='white', labelcolor='white')\n",
        "plt.setp(legend.get_title(), color='white')\n",
        "\n",
        "ax.set_xlabel('Contribución Total de Peligro', fontsize=12)\n",
        "ax.set_title('Desglose de Peligro por Equipo - Final Mundial 2022', color='white', fontsize=18, pad=20)\n",
        "\n",
        "plt.tight_layout()\n",
        "plt.show()"
      ],
      "metadata": {
        "colab": {
          "base_uri": "https://localhost:8080/",
          "height": 762
        },
        "id": "EUmpRA8XsNVw",
        "outputId": "03d0824e-6091-4abe-923c-00f54f7805e3"
      },
      "execution_count": null,
      "outputs": [
        {
          "output_type": "stream",
          "name": "stdout",
          "text": [
            "--- Analizando el Peligro Total por Equipo ---\n",
            "\n",
            "Contribución Total de Peligro por Equipo:\n",
            "                 xT        xG        xA  total_contribution\n",
            "team                                                       \n",
            "Argentina -0.094533  5.892306  1.036329            6.834102\n",
            "France     0.145700  5.406618  0.467033            6.019351\n",
            "\n",
            "--- Generando gráfico de contribución por equipo ---\n"
          ]
        },
        {
          "output_type": "display_data",
          "data": {
            "text/plain": [
              "<Figure size 1000x600 with 1 Axes>"
            ],
            "image/png": "[encoded data removed]"
          },
          "metadata": {}
        }
      ]
    },
    {
      "cell_type": "markdown",
      "source": [
        "## Paso 7: Conclusión y Respuesta a la Hipótesis\n",
        "\n",
        "**Explicación**:\n",
        "Finalmente, interpretamos los resultados de nuestro análisis para responder a la pregunta inicial.\n",
        "\n",
        "**Conclusión**:\n",
        "Los datos nos ofrecen una visión clara del rendimiento ofensivo de ambos equipos. Al observar la tabla y el gráfico generados en el Paso 6, vemos que **Argentina generó una Contribución Total de Peligro de aproximadamente 6.83, mientras que Francia generó un total de 6.02**.\n",
        "\n",
        "Si bien Francia fue extremadamente letal en sus momentos, especialmente en la finalización (un xG muy alto, impulsado por los penaltis), **Argentina demostró ser superior en las métricas de construcción y progresión del juego (xT y xA).** El equipo argentino no solo creó oportunidades de alta calidad (xA), sino que fue consistentemente mejor en mover el balón a zonas peligrosas (xT) a lo largo del partido.\n",
        "\n",
        "**Respuesta a la Hipótesis**:\n",
        "***Los datos respaldan la hipótesis***. Argentina fue el vencedor en la final y, según nuestro análisis combinado de xT, xG y xA, también fue el equipo que generó más peligro en total. Su victoria no fue solo el resultado de momentos aislados de brillantez, sino el fruto de un rendimiento ofensivo más completo y sostenido."
      ],
      "metadata": {
        "id": "Vd6dsp2vLbKN"
      }
    }
  ]
}